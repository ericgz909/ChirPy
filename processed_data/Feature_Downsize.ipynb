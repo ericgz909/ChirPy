{
 "cells": [
  {
   "cell_type": "markdown",
   "metadata": {},
   "source": [
    "Notebook for downsizing number of features in processed data."
   ]
  },
  {
   "cell_type": "code",
   "execution_count": 20,
   "metadata": {},
   "outputs": [],
   "source": [
    "import pandas as pd\n",
    "from glob import glob\n",
    "\n",
    "file = '*.csv'\n",
    "\n",
    "for filename in glob(file):\n",
    "    df = pd.read_csv(filename,index_col=0)\n",
    "    df = df[df.columns.drop(list(df.filter(regex='autocorr')))]\n",
    "    df = df[df.columns.drop(list(df.filter(regex='peak4')))]\n",
    "    df = df[df.columns.drop(list(df.filter(regex='peak3')))]\n",
    "    df.to_csv(filename)"
   ]
  },
  {
   "cell_type": "code",
   "execution_count": null,
   "metadata": {},
   "outputs": [],
   "source": []
  }
 ],
 "metadata": {
  "kernelspec": {
   "display_name": "Python 3",
   "language": "python",
   "name": "python3"
  },
  "language_info": {
   "codemirror_mode": {
    "name": "ipython",
    "version": 3
   },
   "file_extension": ".py",
   "mimetype": "text/x-python",
   "name": "python",
   "nbconvert_exporter": "python",
   "pygments_lexer": "ipython3",
   "version": "3.8.3"
  }
 },
 "nbformat": 4,
 "nbformat_minor": 4
}
