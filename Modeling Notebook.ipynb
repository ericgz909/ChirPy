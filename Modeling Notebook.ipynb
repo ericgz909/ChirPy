{
 "cells": [
  {
   "cell_type": "code",
   "execution_count": 1,
   "id": "5c4c2439",
   "metadata": {},
   "outputs": [],
   "source": [
    "import numpy as np\n",
    "import pandas as pd\n",
    "import psutil\n",
    "from pathlib import Path\n",
    "\n",
    "from matplotlib import pyplot as plt\n",
    "\n",
    "import os, random, gc, glob\n",
    "import re, time, json\n",
    "\n",
    "from sklearn import preprocessing\n",
    "from sklearn.preprocessing import scale\n",
    "from sklearn.metrics import label_ranking_average_precision_score\n",
    "from sklearn.model_selection import train_test_split\n",
    "from sklearn.model_selection import StratifiedKFold\n",
    "from sklearn.tree import DecisionTreeClassifier\n",
    "from sklearn.ensemble import RandomForestClassifier\n",
    "from sklearn.base import clone\n",
    "from sklearn.decomposition import PCA\n",
    "from sklearn.decomposition import FactorAnalysis\n",
    "from sklearn.metrics import accuracy_score\n",
    "from sklearn.metrics import precision_score\n",
    "from sklearn.metrics import recall_score\n",
    "\n",
    "from sklearn.experimental import enable_iterative_imputer\n",
    "from sklearn.impute import IterativeImputer\n",
    "\n",
    "from ppca import PPCA\n",
    "\n",
    "from scipy.linalg import orth\n",
    "\n",
    "import geopandas as gpd\n",
    "import plotly_express as px"
   ]
  },
  {
   "cell_type": "code",
   "execution_count": 2,
   "id": "4b95164a",
   "metadata": {},
   "outputs": [
    {
     "name": "stdout",
     "output_type": "stream",
     "text": [
      "start 151556096\n"
     ]
    }
   ],
   "source": [
    "process = psutil.Process(os.getpid())\n",
    "print('start', process.memory_info().rss)"
   ]
  },
  {
   "cell_type": "code",
   "execution_count": 3,
   "id": "ad98005e",
   "metadata": {},
   "outputs": [],
   "source": [
    "feature_data = pd.read_csv('features_single_last100.csv')\n",
    "feature_data = feature_data.dropna()\n",
    "feature_data = feature_data.reset_index(drop=True)"
   ]
  },
  {
   "cell_type": "code",
   "execution_count": 4,
   "id": "2413ee48",
   "metadata": {},
   "outputs": [],
   "source": [
    "# Copy feature_data for model training purposes\n",
    "X = feature_data.copy()\n",
    "\n",
    "# Sort X by names and filter out bottom 80% of rows by bird name count\n",
    "X_names_sort = X.groupby('bird name').size().sort_values(ascending=False)\n",
    "good_names = X_names_sort[:int(len(X_names_sort)/20+1)].index.values\n",
    "X_new = X[X['bird name'].str.contains('|'.join(good_names))]\n",
    "\n",
    "# encode corresponding categorical labels with numeric values\n",
    "y = X_new['bird name'].astype('category').cat.codes\n",
    "\n",
    "# Delete last two columns (not feature-related)\n",
    "X_filt = X_new.drop(columns=['Unnamed: 0','bird name','filename'])\n",
    "\n",
    "# Sort X by names and filter out bottom 80% of columns by variance\n",
    "X_filt_var_sort = X_filt.var().sort_values(ascending=False)\n",
    "good_cols = X_filt_var_sort[:int(len(X_filt_var_sort)*0.8+1)].index.values\n",
    "X_filt_high_var = X_filt[good_cols]\n",
    "#X_filt_high_var\n",
    "\n",
    "# Normalize columns of X (from feature_data)\n",
    "X_norm = pd.DataFrame.from_records(preprocessing.normalize(X_filt_high_var, axis = 0))"
   ]
  },
  {
   "cell_type": "code",
   "execution_count": null,
   "id": "879b2a77",
   "metadata": {},
   "outputs": [],
   "source": []
  },
  {
   "cell_type": "code",
   "execution_count": 5,
   "id": "1148fee4",
   "metadata": {},
   "outputs": [
    {
     "name": "stdout",
     "output_type": "stream",
     "text": [
      "now 171032576\n"
     ]
    }
   ],
   "source": [
    "# Perform PCA on X_norm to reduce dimensions—i.e. reduce model complexity\n",
    "pca = PCA(n_components = 40)\n",
    "X_pca = pca.fit_transform(X_norm)\n",
    "\n",
    "X_pca_pd = pd.DataFrame(X_pca)\n",
    "\n",
    "# Perform factor analysis on X_norm to reduce dimensions\n",
    "fact_an = FactorAnalysis(n_components=40, random_state=44)\n",
    "X_fact_an = fact_an.fit_transform(X_norm)\n",
    "\n",
    "X_fact_an_pd = pd.DataFrame(X_fact_an)\n",
    "\n",
    "print('now', process.memory_info().rss)\n",
    "#X_pca_pd\n",
    "#X_fact_an_pd"
   ]
  },
  {
   "cell_type": "code",
   "execution_count": 6,
   "id": "3183657e",
   "metadata": {},
   "outputs": [
    {
     "data": {
      "image/png": "[encoded data removed]",
      "text/plain": [
       "<Figure size 432x288 with 1 Axes>"
      ]
     },
     "metadata": {
      "needs_background": "light"
     },
     "output_type": "display_data"
    },
    {
     "name": "stdout",
     "output_type": "stream",
     "text": [
      "Max score of 0.6145251396648045 for 19 max features.\n"
     ]
    }
   ],
   "source": [
    "X_pca_train, X_pca_test, y_train, y_test = train_test_split(X_pca_pd, y, random_state=44)\n",
    "\n",
    "scores = []\n",
    "for j in range(1,25):\n",
    "    model = RandomForestClassifier(max_features = j, max_depth=None, min_samples_split = 2,\n",
    "                                   n_estimators = 500, random_state = 44)\n",
    "    model.fit(X_pca_train,y_train);\n",
    "    scores = scores + [model.score(X_pca_test,y_test)]\n",
    "plt.plot(range(1,25),scores)\n",
    "plt.title('Testing max_features')\n",
    "plt.show()\n",
    "#print(scores)\n",
    "print(\"Max score of\",np.amax(scores),\"for\",np.argmax(scores),\"max features.\")"
   ]
  },
  {
   "cell_type": "code",
   "execution_count": 7,
   "id": "0799ac21",
   "metadata": {},
   "outputs": [
    {
     "data": {
      "image/png": "[encoded data removed]",
      "text/plain": [
       "<Figure size 432x288 with 1 Axes>"
      ]
     },
     "metadata": {
      "needs_background": "light"
     },
     "output_type": "display_data"
    },
    {
     "name": "stdout",
     "output_type": "stream",
     "text": [
      "Max score of 0.6089385474860335 for depth 13 .\n"
     ]
    }
   ],
   "source": [
    "X_pca_train, X_pca_test, y_train, y_test = train_test_split(X_pca_pd, y, random_state=44)\n",
    "\n",
    "scores = []\n",
    "for j in range(1,25):\n",
    "    model = RandomForestClassifier(max_features = 16, max_depth=j, min_samples_split = 2,\n",
    "                                   n_estimators = 500, random_state = 44)\n",
    "    model.fit(X_pca_train,y_train);\n",
    "    scores = scores + [model.score(X_pca_test,y_test)]\n",
    "plt.plot(range(1,25),scores)\n",
    "plt.title('Testing max_depth')\n",
    "plt.show()\n",
    "#print(scores)\n",
    "print(\"Max score of\",np.amax(scores),\"for depth\",np.argmax(scores),\".\")"
   ]
  },
  {
   "cell_type": "code",
   "execution_count": null,
   "id": "c1224a12",
   "metadata": {},
   "outputs": [],
   "source": [
    "X_fact_an_train, X_fact_an_test, y_train, y_test = train_test_split(X_fact_an_pd, y, random_state=44)\n",
    "\n",
    "scores = []\n",
    "for j in range(1,25):\n",
    "    model = RandomForestClassifier(max_features = j, max_depth=None, min_samples_split = 2,\n",
    "                                   n_estimators = 500, random_state = 44)\n",
    "    model.fit(X_fact_an_train,y_train);\n",
    "    scores = scores + [model.score(X_fact_an_test,y_test)]\n",
    "plt.plot(range(1,25),scores)\n",
    "plt.title('Testing max_features')\n",
    "plt.show()\n",
    "#print(scores)\n",
    "print(\"Max score of\",np.amax(scores),\"for\",np.argmax(scores),\"max features.\")"
   ]
  },
  {
   "cell_type": "code",
   "execution_count": null,
   "id": "a162962b",
   "metadata": {},
   "outputs": [],
   "source": [
    "X_fact_an_train, X_fact_an_test, y_train, y_test = train_test_split(X_fact_an_pd, y, random_state=44)\n",
    "\n",
    "scores = []\n",
    "for j in range(1,25):\n",
    "    model = RandomForestClassifier(max_features = 5, max_depth=j, min_samples_split = 2,\n",
    "                                   n_estimators = 500, random_state = 44)\n",
    "    model.fit(X_fact_an_train,y_train);\n",
    "    scores = scores + [model.score(X_fact_an_test,y_test)]\n",
    "plt.plot(range(1,25),scores)\n",
    "plt.title('Testing max_depth')\n",
    "plt.show()\n",
    "#print(scores)\n",
    "print(\"Max score of\",np.amax(scores),\"for depth\",np.argmax(scores),\".\")"
   ]
  },
  {
   "cell_type": "code",
   "execution_count": null,
   "id": "41282f70",
   "metadata": {},
   "outputs": [],
   "source": []
  },
  {
   "cell_type": "code",
   "execution_count": null,
   "id": "16f8afad",
   "metadata": {},
   "outputs": [],
   "source": []
  },
  {
   "cell_type": "code",
   "execution_count": null,
   "id": "02318eb4",
   "metadata": {},
   "outputs": [],
   "source": []
  },
  {
   "cell_type": "code",
   "execution_count": null,
   "id": "7a9b43ba",
   "metadata": {},
   "outputs": [],
   "source": []
  },
  {
   "cell_type": "code",
   "execution_count": null,
   "id": "b86f61d2",
   "metadata": {},
   "outputs": [],
   "source": []
  },
  {
   "cell_type": "code",
   "execution_count": null,
   "id": "99064fa9",
   "metadata": {},
   "outputs": [],
   "source": []
  },
  {
   "cell_type": "code",
   "execution_count": null,
   "id": "76673118",
   "metadata": {},
   "outputs": [],
   "source": []
  },
  {
   "cell_type": "code",
   "execution_count": null,
   "id": "9d2c5d88",
   "metadata": {},
   "outputs": [],
   "source": []
  }
 ],
 "metadata": {
  "kernelspec": {
   "display_name": "Python 3",
   "language": "python",
   "name": "python3"
  },
  "language_info": {
   "codemirror_mode": {
    "name": "ipython",
    "version": 3
   },
   "file_extension": ".py",
   "mimetype": "text/x-python",
   "name": "python",
   "nbconvert_exporter": "python",
   "pygments_lexer": "ipython3",
   "version": "3.9.4"
  }
 },
 "nbformat": 4,
 "nbformat_minor": 5
}
